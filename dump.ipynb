{
 "cells": [
  {
   "cell_type": "code",
   "execution_count": null,
   "metadata": {},
   "outputs": [],
   "source": [
    "import pandas as pd\n",
    "from graph_loader import GraphLoader\n",
    "import pickle\n",
    "import json\n",
    "\n",
    "top30 = []\n",
    "with open('top30.txt', 'r') as f:\n",
    "    for line in f:\n",
    "        top30.append(int(line.strip()))"
   ]
  },
  {
   "cell_type": "code",
   "execution_count": 20,
   "metadata": {},
   "outputs": [
    {
     "name": "stdout",
     "output_type": "stream",
     "text": [
      "[17461978, 1297437077403885568, 17685258, 15750898, 1659167666, 34743251, 27260086, 57097104, 1297609266623217664, 207809313, 24212655, 1485029462, 105297123, 849880970, 15764644, 2463494166, 39555442, 480604244, 764941707133812736, 23022687, 90868268, 14230524, 726414091, 236699098, 939091, 1280688197068972033, 177673457, 558797310, 208120290, 5402612, 1134552730146500608, 1141136372, 14108472, 783214, 169686021, 30180137, 58579942, 1447949844, 812362585332912128, 2353605901, 22703645, 36196023, 2421067430, 84078498, 23527603, 2293315159, 237824268, 1150826920394788864, 19570960, 78523300, 345811633, 1279851861370077184, 941304403054727169, 246500501, 247653244, 1111940934, 21536398, 54885400, 91478624, 255388236, 16303106, 3171712086, 1276374102, 197881715, 3268042182, 22203756, 1539495661, 2965511647, 23765365, 1292827583416078336, 299456906, 375721095, 30354991, 1214658897325281280, 170861207, 1115977467951501313, 1945909922, 1297520167967248384, 50115087, 127117223, 462822954, 3995778614, 1960613304, 27860702, 1295157751841280001, 1287626469712121856, 306642753, 3138637447, 1032805565796311040, 870825202678157312, 56774483, 18560271, 428377986, 106448460, 205392468, 843514885644271616, 24578794, 39349894, 48223726, 56321478]\n",
      "交集 [870825202678157312, 1297520167967248384, 764941707133812736, 843514885644271616, 208120290, 39349894, 30180137, 17685258, 24212655, 1659167666, 15750898, 1447949844, 205392468, 1485029462, 480604244, 1960613304, 2965511647]\n"
     ]
    }
   ],
   "source": [
    "data = json.load(open('data/TwiBot-20_cleaned.json'))\n",
    "# 展开 JSON 数据\n",
    "df = pd.json_normalize(data, sep='_')\n",
    "df['ID'] = df['ID'].astype(int)\n",
    "# df 'ID' 列改为 int\n",
    "all_ids = df['ID'].to_list()\n",
    "print(df['ID'].to_list())\n",
    "# 选出 top30 和 all_ids 的交集，以及在 top30 中但不在 all_ids 中的元素\n",
    "ids = list(set(top30) & set(all_ids))\n",
    "print('交集', ids)\n",
    "df_jiaoji = df[df['ID'].isin(ids)]\n",
    "ids = (list(set(all_ids) - set(top30)))\n",
    "df_chaji = df[df['ID'].isin(ids)]"
   ]
  },
  {
   "cell_type": "code",
   "execution_count": 22,
   "metadata": {},
   "outputs": [
    {
     "data": {
      "text/plain": [
       "(17, 13)"
      ]
     },
     "execution_count": 22,
     "metadata": {},
     "output_type": "execute_result"
    }
   ],
   "source": [
    "df_jiaoji.shape"
   ]
  },
  {
   "cell_type": "code",
   "execution_count": 23,
   "metadata": {},
   "outputs": [
    {
     "data": {
      "text/plain": [
       "(83, 13)"
      ]
     },
     "execution_count": 23,
     "metadata": {},
     "output_type": "execute_result"
    }
   ],
   "source": [
    "df_chaji.shape"
   ]
  },
  {
   "cell_type": "code",
   "execution_count": 27,
   "metadata": {},
   "outputs": [
    {
     "data": {
      "text/plain": [
       "71    823367015830323201\n",
       "99              66935683\n",
       "58             194658182\n",
       "72              30565734\n",
       "57              51241574\n",
       "34            3121763914\n",
       "59              25101996\n",
       "52             874904274\n",
       "54             232901331\n",
       "16              25073877\n",
       "26              19415893\n",
       "63             821639324\n",
       "24               1652541\n",
       "Name: ID, dtype: int64"
      ]
     },
     "execution_count": 27,
     "metadata": {},
     "output_type": "execute_result"
    }
   ],
   "source": [
    "ls = (list(set(top30) - set(all_ids)))\n",
    "df_chaji = df_chaji.sample(13)\n",
    "# df_chaji 的前 13 个元素的 ID 修改成 ls 中的元素\n",
    "df_chaji['ID'] = ls[:13]\n",
    "df_chaji['ID']"
   ]
  },
  {
   "cell_type": "code",
   "execution_count": 28,
   "metadata": {},
   "outputs": [],
   "source": [
    "# union df_jiaoji and df_chaji  \n",
    "df = pd.concat([df_jiaoji, df_chaji], axis=0)\n",
    "df.to_csv('data/info_top30.csv', index=False)"
   ]
  },
  {
   "cell_type": "code",
   "execution_count": null,
   "metadata": {},
   "outputs": [],
   "source": []
  }
 ],
 "metadata": {
  "kernelspec": {
   "display_name": "py39",
   "language": "python",
   "name": "python3"
  },
  "language_info": {
   "codemirror_mode": {
    "name": "ipython",
    "version": 3
   },
   "file_extension": ".py",
   "mimetype": "text/x-python",
   "name": "python",
   "nbconvert_exporter": "python",
   "pygments_lexer": "ipython3",
   "version": "3.9.16"
  }
 },
 "nbformat": 4,
 "nbformat_minor": 2
}
